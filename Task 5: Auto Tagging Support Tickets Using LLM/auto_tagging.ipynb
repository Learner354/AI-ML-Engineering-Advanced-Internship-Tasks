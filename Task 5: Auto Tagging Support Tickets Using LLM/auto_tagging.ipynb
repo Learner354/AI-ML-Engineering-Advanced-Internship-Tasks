{
  "cells": [
    {
      "cell_type": "code",
      "execution_count": 1,
      "metadata": {
        "id": "YjqYe4Z-T7Vj"
      },
      "outputs": [],
      "source": [
        "import pandas as pd\n",
        "\n",
        "data = {\n",
        "    'ticket': [\n",
        "        \"My internet is down since morning.\",\n",
        "        \"I want to change my billing address.\",\n",
        "        \"How do I reset my account password?\",\n",
        "        \"My service was disconnected unexpectedly.\",\n",
        "        \"Need help upgrading my plan.\"\n",
        "    ]\n",
        "}\n",
        "\n",
        "df = pd.DataFrame(data)\n"
      ]
    },
    {
      "cell_type": "code",
      "execution_count": 2,
      "metadata": {
        "id": "GrilbKKYUAGK"
      },
      "outputs": [],
      "source": [
        "TAGS = [\"Billing\", \"Technical\", \"Account\", \"Service\", \"Upgrade\"]\n"
      ]
    },
    {
      "cell_type": "code",
      "execution_count": null,
      "metadata": {
        "id": "F6IJWdo_UDW9"
      },
      "outputs": [],
      "source": [
        "from openai import OpenAI\n",
        "client = OpenAI(\n",
        "    api_key=\"ghp_xxxxx\",  # because of security risk its removed replace it with your GitHub token\n",
        "    base_url=\"https://models.github.ai/inference/v1\"\n",
        ")\n",
        "\n",
        "def classify_zero_shot(text, tags):\n",
        "    prompt = f\"\"\"\n",
        "You are a support ticket classification assistant.\n",
        "Given the ticket below, choose the top 3 most relevant categories from: {\", \".join(tags)}.\n",
        "\n",
        "Ticket: \"{text}\"\n",
        "\n",
        "Return the top 3 categories as a comma-separated list.\n",
        "\"\"\"\n",
        "    response = client.chat.completions.create(\n",
        "        model=\"openai/gpt-4.1\",\n",
        "        messages=[{\"role\": \"user\", \"content\": prompt}],\n",
        "        temperature=0\n",
        "    )\n",
        "    return response.choices[0].message.content.strip()\n"
      ]
    },
    {
      "cell_type": "code",
      "execution_count": 11,
      "metadata": {
        "colab": {
          "base_uri": "https://localhost:8080/"
        },
        "id": "w45KnMO7VFen",
        "outputId": "a7f36aba-c372-40a9-ed4f-3ad684abb91b"
      },
      "outputs": [
        {
          "name": "stdout",
          "output_type": "stream",
          "text": [
            "                                      ticket     predicted_tags_zero_shot\n",
            "0         My internet is down since morning.  Technical, Service, Account\n",
            "1       I want to change my billing address.    Billing, Account, Service\n",
            "2        How do I reset my account password?  Account, Technical, Service\n",
            "3  My service was disconnected unexpectedly.  Service, Technical, Account\n",
            "4               Need help upgrading my plan.    Upgrade, Account, Service\n"
          ]
        }
      ],
      "source": [
        "df['predicted_tags_zero_shot'] = df['ticket'].apply(lambda x: classify_zero_shot(x, TAGS))\n",
        "print(df[['ticket', 'predicted_tags_zero_shot']])\n"
      ]
    },
    {
      "cell_type": "code",
      "execution_count": 12,
      "metadata": {
        "colab": {
          "base_uri": "https://localhost:8080/"
        },
        "id": "eFRihOxOVN4S",
        "outputId": "31bd82b5-2d70-461b-fe4d-a4a3836a0457"
      },
      "outputs": [
        {
          "name": "stdout",
          "output_type": "stream",
          "text": [
            "Service, Technical, Account\n"
          ]
        }
      ],
      "source": [
        "TAGS = [\"Billing\", \"Technical\", \"Account\", \"Service\", \"Upgrade\"]\n",
        "\n",
        "sample_ticket = \"My internet was cut off without any notice. Please fix this.\"\n",
        "\n",
        "result = classify_zero_shot(sample_ticket, TAGS)\n",
        "print(result)  # e.g., \"Service, Technical, Account\"\n"
      ]
    },
    {
      "cell_type": "code",
      "execution_count": 15,
      "metadata": {
        "id": "7Iicw67TXBcl"
      },
      "outputs": [],
      "source": [
        "FEW_SHOT_PROMPT = \"\"\"\n",
        "You are a ticket classification assistant. Choose the top 3 tags from:\n",
        "Billing, Technical, Account, Service, Upgrade\n",
        "\n",
        "Examples:\n",
        "Ticket: \"I was overcharged on my last bill.\"\n",
        "Tags: Billing, Account, Service\n",
        "\n",
        "Ticket: \"Internet not working for 2 days.\"\n",
        "Tags: Technical, Service, Account\n",
        "\n",
        "Now classify:\n",
        "Ticket: \"{text}\"\n",
        "Tags:\n",
        "\"\"\"\n",
        "\n",
        "def classify_few_shot(text):\n",
        "    prompt = FEW_SHOT_PROMPT.format(text=text)\n",
        "    response = client.chat.completions.create(\n",
        "        model=\"openai/gpt-4.1\",\n",
        "        messages=[{\"role\": \"user\", \"content\": prompt}],\n",
        "        temperature=0\n",
        "    )\n",
        "    return response.choices[0].message.content.strip()\n"
      ]
    },
    {
      "cell_type": "code",
      "execution_count": 16,
      "metadata": {
        "colab": {
          "base_uri": "https://localhost:8080/"
        },
        "id": "khQYsxa4XjgW",
        "outputId": "edc65ab1-0eff-49b1-fdcc-26027fbfd0ac"
      },
      "outputs": [
        {
          "name": "stdout",
          "output_type": "stream",
          "text": [
            "                                      ticket     predicted_tags_zero_shot  \\\n",
            "0         My internet is down since morning.  Technical, Service, Account   \n",
            "1       I want to change my billing address.    Billing, Account, Service   \n",
            "2        How do I reset my account password?  Account, Technical, Service   \n",
            "3  My service was disconnected unexpectedly.  Service, Technical, Account   \n",
            "4               Need help upgrading my plan.    Upgrade, Account, Service   \n",
            "\n",
            "       predicted_tags_few_shot  \n",
            "0  Technical, Service, Account  \n",
            "1    Billing, Account, Service  \n",
            "2  Account, Technical, Service  \n",
            "3  Service, Account, Technical  \n",
            "4    Upgrade, Account, Service  \n"
          ]
        }
      ],
      "source": [
        "df['predicted_tags_few_shot'] = df['ticket'].apply(classify_few_shot)\n",
        "print(df[['ticket', 'predicted_tags_zero_shot', 'predicted_tags_few_shot']])\n"
      ]
    },
    {
      "cell_type": "code",
      "execution_count": 17,
      "metadata": {
        "colab": {
          "base_uri": "https://localhost:8080/"
        },
        "id": "4oFBC89iXpx8",
        "outputId": "2382d24b-d9d7-45b8-e676-8a052d347e2a"
      },
      "outputs": [
        {
          "name": "stdout",
          "output_type": "stream",
          "text": [
            "                                      ticket     predicted_tags_zero_shot  \\\n",
            "0         My internet is down since morning.  Technical, Service, Account   \n",
            "1       I want to change my billing address.    Billing, Account, Service   \n",
            "2        How do I reset my account password?  Account, Technical, Service   \n",
            "3  My service was disconnected unexpectedly.  Service, Technical, Account   \n",
            "4               Need help upgrading my plan.    Upgrade, Account, Service   \n",
            "\n",
            "       predicted_tags_few_shot  \n",
            "0  Technical, Service, Account  \n",
            "1    Billing, Account, Service  \n",
            "2  Account, Technical, Service  \n",
            "3  Service, Account, Technical  \n",
            "4    Upgrade, Account, Service  \n"
          ]
        }
      ],
      "source": [
        "print(df)"
      ]
    },
    {
      "cell_type": "code",
      "execution_count": null,
      "metadata": {
        "id": "zKd-5sklYP3_"
      },
      "outputs": [],
      "source": []
    }
  ],
  "metadata": {
    "colab": {
      "provenance": []
    },
    "kernelspec": {
      "display_name": "Python 3",
      "name": "python3"
    },
    "language_info": {
      "name": "python"
    }
  },
  "nbformat": 4,
  "nbformat_minor": 0
}
